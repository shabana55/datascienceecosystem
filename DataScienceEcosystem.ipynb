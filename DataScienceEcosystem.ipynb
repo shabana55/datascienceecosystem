{
 "cells": [
  {
   "cell_type": "markdown",
   "id": "e66672a5-0c0d-40c1-bd05-773697a554ce",
   "metadata": {},
   "source": [
    "# Data Science Tools and Ecosystem"
   ]
  },
  {
   "cell_type": "markdown",
   "id": "e3dbc9bd-e813-4b5c-aed4-ccaec0b4be16",
   "metadata": {},
   "source": [
    "## In this notebook,Data Science Tools and Ecosystem are summarized"
   ]
  },
  {
   "cell_type": "markdown",
   "id": "edf4f98f-1783-470c-b264-fa77c652b00f",
   "metadata": {},
   "source": [
    "__Objectives:__\n",
    "  + List popular languages of data science\n",
    "  + List commonly used libraries that Data Scientist use\n",
    "  + List commonly used Data science tools\n",
    "  + To calculate simple arithmetic expressions\n",
    "  \n"
   ]
  },
  {
   "cell_type": "markdown",
   "id": "f3246899-0d75-4b57-afc7-891012686cfc",
   "metadata": {},
   "source": [
    "## Some of the popular languages that Data Scientists use are:\n",
    "1. Python\n",
    "2. R\n",
    "3. SQL\n",
    "4. Scala\n"
   ]
  },
  {
   "cell_type": "markdown",
   "id": "eaacb75c-042b-4df9-9efc-066ce773a7cb",
   "metadata": {},
   "source": [
    "## Some of the commony used libraries used by Data Scientists include:\n",
    "1. Pandas\n",
    "2. Numpy\n",
    "3. ggplot2\n",
    "4. Appache Hive"
   ]
  },
  {
   "cell_type": "markdown",
   "id": "61196da1-64c0-4352-b466-f6183cc9272b",
   "metadata": {},
   "source": [
    "| Data Science Tools |\n",
    "|--------------------|\n",
    "| Jupyter Notebook   |\n",
    "| RStudio            |\n",
    "| VS Code            |"
   ]
  },
  {
   "cell_type": "markdown",
   "id": "0b8d422e-4448-4f4f-8e57-149d42f223aa",
   "metadata": {},
   "source": [
    "### Below are few examples of evaluating arithmetic expressions in Python"
   ]
  },
  {
   "cell_type": "code",
   "execution_count": 1,
   "id": "920d5316-d532-487b-9f4f-4ae209470a70",
   "metadata": {},
   "outputs": [
    {
     "data": {
      "text/plain": [
       "17"
      ]
     },
     "execution_count": 1,
     "metadata": {},
     "output_type": "execute_result"
    }
   ],
   "source": [
    "### This is a simple arithmetic expression to multiply then add integers\n",
    "(3*4)+5"
   ]
  },
  {
   "cell_type": "code",
   "execution_count": 2,
   "id": "c733445c-19d5-4aa7-b861-64b2e2a5ea3a",
   "metadata": {},
   "outputs": [
    {
     "data": {
      "text/plain": [
       "3.3333333333333335"
      ]
     },
     "execution_count": 2,
     "metadata": {},
     "output_type": "execute_result"
    }
   ],
   "source": [
    "### This will convert 200 minutes to hours by dividing by 60\n",
    "200/60\n"
   ]
  },
  {
   "cell_type": "markdown",
   "id": "58e22163-f07a-49af-a9fa-f08e115faf55",
   "metadata": {},
   "source": [
    "## Author\n",
    "Shabana Alamuttath Kochunny"
   ]
  },
  {
   "cell_type": "code",
   "execution_count": null,
   "id": "d98a1133-cc0b-412b-b955-6d5c1022df7a",
   "metadata": {},
   "outputs": [],
   "source": []
  }
 ],
 "metadata": {
  "kernelspec": {
   "display_name": "Python 3 (ipykernel)",
   "language": "python",
   "name": "python3"
  },
  "language_info": {
   "codemirror_mode": {
    "name": "ipython",
    "version": 3
   },
   "file_extension": ".py",
   "mimetype": "text/x-python",
   "name": "python",
   "nbconvert_exporter": "python",
   "pygments_lexer": "ipython3",
   "version": "3.12.7"
  }
 },
 "nbformat": 4,
 "nbformat_minor": 5
}
